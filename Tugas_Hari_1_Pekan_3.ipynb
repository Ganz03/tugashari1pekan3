{
  "cells": [
    {
      "cell_type": "markdown",
      "metadata": {
        "id": "o1M2Lrt99c4p"
      },
      "source": [
        "<h2>Soal 1: Pemahaman Component Matplotlib</h2>\n",
        "\n",
        "- Jelaskan apa itu Figure\n",
        "- Jelaskan apa itu Axis"
      ]
    },
    {
      "cell_type": "code",
      "execution_count": null,
      "metadata": {
        "id": "9XIN7HBVp8jK"
      },
      "outputs": [],
      "source": [
        "figure: adalah area atau wadah tempat Anda membuat plot atau grafik. Ini merupakan latar belakang tempat Anda menempatkan elemen-elemen visual seperti grafik batang, garis, atau titik data"
      ]
    },
    {
      "cell_type": "code",
      "execution_count": null,
      "metadata": {
        "id": "rnKj1jh6p8yw"
      },
      "outputs": [],
      "source": [
        "axis: adalah komponen dalam sebuah plot atau grafik yang digunakan untuk menampilkan skala dan label nila"
      ]
    },
    {
      "cell_type": "markdown",
      "metadata": {
        "id": "Iu2dycHZ9c4q"
      },
      "source": []
    },
    {
      "cell_type": "markdown",
      "metadata": {
        "id": "6VQEulk_9c4w"
      },
      "source": [
        "<h2>Soal 2: Membuat Component Figure dan Axis</h2>\n",
        "\n",
        "- Buatlah Figure dan Axis kosong tanpa Data\n",
        "- Plot data di bawah ini dengan 2 cara, yaitu dengan membuat figure dan axis secara explicit dan Implicit"
      ]
    },
    {
      "cell_type": "code",
      "execution_count": null,
      "metadata": {
        "id": "_i705o2ID4wr"
      },
      "outputs": [],
      "source": [
        "import numpy as np\n",
        "import matplotlib.pyplot as plt\n",
        "\n",
        "x = np.linspace(0, 20, 100)\n",
        "y = np.cos(x/2)"
      ]
    },
    {
      "cell_type": "code",
      "execution_count": null,
      "metadata": {
        "colab": {
          "base_uri": "https://localhost:8080/",
          "height": 347
        },
        "id": "2e1lWj9ABUyK",
        "outputId": "74637e77-f069-443e-a2be-c506254237e3"
      },
      "outputs": [
        {
          "data": {
            "image/png": "[encoded data removed]",
            "text/plain": [
              "<Figure size 576x396 with 1 Axes>"
            ]
          },
          "metadata": {},
          "output_type": "display_data"
        }
      ],
      "source": [
        "# membuat Figure dan Axis dengan Data Kosong\n"
      ]
    },
    {
      "cell_type": "code",
      "execution_count": 9,
      "metadata": {
        "id": "N6l4ZBVE9c41"
      },
      "outputs": [
        {
          "ename": "ModuleNotFoundError",
          "evalue": "No module named 'numpy'",
          "output_type": "error",
          "traceback": [
            "\u001b[1;31m---------------------------------------------------------------------------\u001b[0m",
            "\u001b[1;31mModuleNotFoundError\u001b[0m                       Traceback (most recent call last)",
            "Cell \u001b[1;32mIn[9], line 2\u001b[0m\n\u001b[0;32m      1\u001b[0m \u001b[39m#eksplisit\u001b[39;00m\n\u001b[1;32m----> 2\u001b[0m \u001b[39mimport\u001b[39;00m \u001b[39mnumpy\u001b[39;00m \u001b[39mas\u001b[39;00m \u001b[39mnp\u001b[39;00m\n\u001b[0;32m      3\u001b[0m \u001b[39mimport\u001b[39;00m \u001b[39mmatplotlib\u001b[39;00m\u001b[39m.\u001b[39;00m\u001b[39mpyplot\u001b[39;00m \u001b[39mas\u001b[39;00m \u001b[39mplt\u001b[39;00m\n\u001b[0;32m      5\u001b[0m x \u001b[39m=\u001b[39m np\u001b[39m.\u001b[39mlinspace(\u001b[39m0\u001b[39m, \u001b[39m20\u001b[39m, \u001b[39m100\u001b[39m)\n",
            "\u001b[1;31mModuleNotFoundError\u001b[0m: No module named 'numpy'"
          ]
        }
      ],
      "source": [
        "#eksplisit\n",
        "import numpy as np\n",
        "import matplotlib.pyplot as plt\n",
        "\n",
        "x = np.linspace(0, 20, 100)\n",
        "y = np.cos(x/2)\n",
        "\n",
        "fig_explicit = plt.figure()\n",
        "\n",
        "ax_explicit = fig_explicit.add_subplot(111)\n",
        "\n",
        "ax_explicit.plot(x, y, label='Cara Explicit')\n",
        "ax_explicit.set_xlabel('Sumbu X')\n",
        "ax_explicit.set_ylabel('Sumbu Y')\n",
        "ax_explicit.set_title('Grafik Data Cosine')\n",
        "ax_explicit.legend()\n",
        "plt.show()"
      ]
    },
    {
      "cell_type": "code",
      "execution_count": 6,
      "metadata": {
        "colab": {
          "base_uri": "https://localhost:8080/",
          "height": 265
        },
        "id": "4NWhXAi5-b4s",
        "outputId": "7e47911d-35d9-4bfe-9227-d19cb96ff8fe"
      },
      "outputs": [
        {
          "ename": "ModuleNotFoundError",
          "evalue": "No module named 'numpy'",
          "output_type": "error",
          "traceback": [
            "\u001b[1;31m---------------------------------------------------------------------------\u001b[0m",
            "\u001b[1;31mModuleNotFoundError\u001b[0m                       Traceback (most recent call last)",
            "Cell \u001b[1;32mIn[6], line 3\u001b[0m\n\u001b[0;32m      1\u001b[0m \u001b[39m#implicit\u001b[39;00m\n\u001b[1;32m----> 3\u001b[0m \u001b[39mimport\u001b[39;00m \u001b[39mnumpy\u001b[39;00m \u001b[39mas\u001b[39;00m \u001b[39mnp\u001b[39;00m\n\u001b[0;32m      4\u001b[0m \u001b[39mimport\u001b[39;00m \u001b[39mmatplotlib\u001b[39;00m\u001b[39m.\u001b[39;00m\u001b[39mpyplot\u001b[39;00m \u001b[39mas\u001b[39;00m \u001b[39mplt\u001b[39;00m\n\u001b[0;32m      6\u001b[0m x \u001b[39m=\u001b[39m np\u001b[39m.\u001b[39mlinspace(\u001b[39m0\u001b[39m, \u001b[39m20\u001b[39m, \u001b[39m100\u001b[39m)\n",
            "\u001b[1;31mModuleNotFoundError\u001b[0m: No module named 'numpy'"
          ]
        }
      ],
      "source": [
        "#implicit\n",
        "\n",
        "import numpy as np\n",
        "import matplotlib.pyplot as plt\n",
        "\n",
        "x = np.linspace(0, 20, 100)\n",
        "y = np.cos(x/2)\n",
        "\n",
        "fig_implicit, ax_implicit = plt.subplots()\n",
        "\n",
        "ax_implicit.plot(x, y, label='Cara Implicit')\n",
        "ax_implicit.set_xlabel('Sumbu X')\n",
        "ax_implicit.set_ylabel('Sumbu Y')\n",
        "ax_implicit.set_title('Grafik Data Cosine')\n",
        "ax_implicit.legend()\n",
        "\n",
        "plt.show()\n",
        "\n"
      ]
    },
    {
      "cell_type": "markdown",
      "metadata": {
        "id": "TxhlaLb09c44"
      },
      "source": [
        "Exected Output:\n",
        "\n",
        "![alt text](https://drive.google.com/uc?id=1mq8HMFwz5GlTH_SPAFnXZZ8KnBWBC9d3)"
      ]
    },
    {
      "cell_type": "markdown",
      "metadata": {
        "id": "AHqpUv7d9c45"
      },
      "source": [
        "Expected Output:\n",
        "\n",
        "![alt text](https://drive.google.com/uc?id=156xwVvDgShvIPBefimXg18zfFjz_SQ8X)"
      ]
    },
    {
      "cell_type": "markdown",
      "metadata": {
        "id": "0ZoV_eZw9c46"
      },
      "source": [
        "<h2>Soal 3: Memasukan multiple data ke dalam satu axis</h2>\n",
        "\n",
        "- Plot ketiga data berikut ke dalam satu axis, dan gunakan seaborn style\n",
        "- save data tersebut dengan nama file bebas (apa saja) dan tampilkan kembali gambar tersebut."
      ]
    },
    {
      "cell_type": "code",
      "execution_count": null,
      "metadata": {
        "id": "w6vvRGOq9c47"
      },
      "outputs": [],
      "source": [
        "x = np.linspace(0, 20, 100)\n",
        "y = np.cos(x/2)\n",
        "y2 = np.sin(x)\n",
        "y3 = np.sin(2*x)"
      ]
    },
    {
      "cell_type": "code",
      "execution_count": 10,
      "metadata": {
        "colab": {
          "base_uri": "https://localhost:8080/",
          "height": 347
        },
        "id": "v59zmgRy9c4-",
        "outputId": "e19214b2-b923-4f28-94f3-31fd9d9ee7b3"
      },
      "outputs": [
        {
          "ename": "ModuleNotFoundError",
          "evalue": "No module named 'numpy'",
          "output_type": "error",
          "traceback": [
            "\u001b[1;31m---------------------------------------------------------------------------\u001b[0m",
            "\u001b[1;31mModuleNotFoundError\u001b[0m                       Traceback (most recent call last)",
            "Cell \u001b[1;32mIn[10], line 1\u001b[0m\n\u001b[1;32m----> 1\u001b[0m \u001b[39mimport\u001b[39;00m \u001b[39mnumpy\u001b[39;00m \u001b[39mas\u001b[39;00m \u001b[39mnp\u001b[39;00m\n\u001b[0;32m      2\u001b[0m \u001b[39mimport\u001b[39;00m \u001b[39mmatplotlib\u001b[39;00m\u001b[39m.\u001b[39;00m\u001b[39mpyplot\u001b[39;00m \u001b[39mas\u001b[39;00m \u001b[39mplt\u001b[39;00m\n\u001b[0;32m      3\u001b[0m \u001b[39mimport\u001b[39;00m \u001b[39mseaborn\u001b[39;00m \u001b[39mas\u001b[39;00m \u001b[39msns\u001b[39;00m\n",
            "\u001b[1;31mModuleNotFoundError\u001b[0m: No module named 'numpy'"
          ]
        }
      ],
      "source": [
        "import numpy as np\n",
        "import matplotlib.pyplot as plt\n",
        "import seaborn as sns\n",
        "\n",
        "# Generate data\n",
        "x = np.linspace(0, 20, 100)\n",
        "y1 = np.cos(x/2)\n",
        "y2 = np.sin(x/2)\n",
        "y3 = np.tan(x/2)\n",
        "\n",
        "sns.set(style=\"whitegrid\")\n",
        "\n",
        "fig, ax = plt.subplots()\n",
        "\n",
        "ax.plot(x, y1, label='cos(x/2)')\n",
        "ax.plot(x, y2, label='sin(x/2)')\n",
        "ax.plot(x, y3, label='tan(x/2)')\n",
        "\n",
        "ax.set_xlabel('Sumbu X')\n",
        "ax.set_ylabel('Sumbu Y')\n",
        "ax.set_title('Grafik Trigonometri')\n",
        "\n",
        "ax.legend()\n",
        "\n",
        "plt.savefig('trigonometry_plot.png')\n",
        "\n",
        "plt.show()"
      ]
    },
    {
      "cell_type": "markdown",
      "metadata": {
        "id": "yZM4KsLe9c5C"
      },
      "source": [
        "Expected Output:\n",
        "\n",
        "![alt text](https://drive.google.com/uc?id=1EnJDnXuJ97NZ9EcKQWRaGCD7-LroZ-Gj)"
      ]
    }
  ],
  "metadata": {
    "colab": {
      "provenance": []
    },
    "kernelspec": {
      "display_name": "Python 3",
      "language": "python",
      "name": "python3"
    },
    "language_info": {
      "codemirror_mode": {
        "name": "ipython",
        "version": 3
      },
      "file_extension": ".py",
      "mimetype": "text/x-python",
      "name": "python",
      "nbconvert_exporter": "python",
      "pygments_lexer": "ipython3",
      "version": "3.10.6"
    }
  },
  "nbformat": 4,
  "nbformat_minor": 0
}
